{
  "nbformat": 4,
  "nbformat_minor": 0,
  "metadata": {
    "colab": {
      "name": "OriginalAlgo.ipynb",
      "provenance": [],
      "include_colab_link": true
    },
    "kernelspec": {
      "name": "python3",
      "display_name": "Python 3"
    },
    "language_info": {
      "name": "python"
    }
  },
  "cells": [
    {
      "cell_type": "markdown",
      "metadata": {
        "id": "view-in-github",
        "colab_type": "text"
      },
      "source": [
        "<a href=\"https://colab.research.google.com/github/OMGarad/Artificial-Intelligence/blob/main/OriginalAlgo.ipynb\" target=\"_parent\"><img src=\"https://colab.research.google.com/assets/colab-badge.svg\" alt=\"Open In Colab\"/></a>"
      ]
    },
    {
      "cell_type": "code",
      "metadata": {
        "id": "vxKtUmvi94xI"
      },
      "source": [
        "import random\n",
        "import itertools\n",
        "import csv\n",
        "\n",
        "\n",
        "class CNF_Creator:\n",
        "    def __init__(self,n): #n is number of symbols\n",
        "        self._n = n\n",
        "        self._sentence = None\n",
        "\n",
        "    def _CreateAClause(self):\n",
        "        n = self._n\n",
        "        claus = random.sample(range(1,n+1),3)\n",
        "        for i in range(3):\n",
        "            claus[i] = -claus[i] if random.choice(range(2))==0 else claus[i]\n",
        "            #above statement randomly negates some of the literals in the clause\n",
        "        claus.sort()\n",
        "        return claus\n",
        "\n",
        "    def CreateRandomSentence(self,m): #m is number of clauses in the sentence\n",
        "        n = self._n\n",
        "        clauses = list()\n",
        "        while len(clauses)<m:\n",
        "            for mi in range(len(clauses),m):\n",
        "                claus = self._CreateAClause()\n",
        "                clauses.append(claus)\n",
        "            clauses.sort()\n",
        "#            print(clauses,len(clauses))\n",
        "            clauses = list(clause for clause,_ in itertools.groupby(clauses)) # removes duplicate clauses\n",
        "#            print(clauses,len(clauses))\n",
        "            self._sentence = clauses\n",
        "        return self._sentence\n",
        "    \n",
        "    \"\"\"\n",
        "    def ReadCNFfromCSVfile(self):\n",
        "        with open('CNF.csv') as csvfile:\n",
        "            rows = csv.reader(csvfile)\n",
        "            rows = list(rows)\n",
        "        sentence = [[int(i) for i in ro] for ro in rows]\n",
        "        #print(sentence)\n",
        "        return sentence\n",
        "    \"\"\"\n",
        "\n",
        "def main():\n",
        "    cnfC = CNF_Creator(n=50) # n is number of symbols \n",
        "    sentence = cnfC.CreateRandomSentence(m=350) # m is number of clauses in the sentence\n",
        "    print(len(sentence))\n",
        "\n",
        "    #sentence = cnfC.ReadCNFfromCSVfile()\n",
        "    print(len(sentence))\n",
        "    "
      ],
      "execution_count": 1,
      "outputs": []
    },
    {
      "cell_type": "code",
      "metadata": {
        "colab": {
          "base_uri": "https://localhost:8080/"
        },
        "id": "baKoNmUq99Um",
        "outputId": "d1ff54ff-e28f-4e64-a506-65a72a726262"
      },
      "source": [
        "from hashlib import new\n",
        "from random import betavariate\n",
        "import time\n",
        "\n",
        "cnfC = CNF_Creator(n=50) # n is number of symbols in the 3-CNF sentence\n",
        "sentence = cnfC.CreateRandomSentence(m=100) # m is number of clauses in the 3-CNF sentence  \n",
        "#sentence = cnfC.ReadCNFfromCSVfile()\n",
        "\n",
        "def GeneticAlgorithm(population):\n",
        "    start_time=time.monotonic()\n",
        "    frequency=0\n",
        "    bestValue=0\n",
        "    bestIndividual = [False for _ in range(50)]\n",
        "    while(time.monotonic()-start_time<45 and fitnessFunction(bestIndividual)<1.0 and frequency<50):\n",
        "        newPopulation=population[:2] \n",
        "        for i in range(len(population)-2):\n",
        "            x=random.choices(population,weights=[(fitnessFunction(model)*100)**2 for model in population],k=1)[0]\n",
        "            y=random.choices(population,weights=[(fitnessFunction(model)*100)**2 for model in population],k=1)[0]\n",
        "            #arr=random.choices(population,weights=[(fitnessFunction(model)*100)**2 for model in population],k=4)\n",
        "            #arr.sort(key=fitnessFunction,reverse=True)\n",
        "            #x=arr[0]\n",
        "            #y=arr[1]\n",
        "            child=reproduce(x,y)\n",
        "            if(frequency<=10):\n",
        "                if(random.random()<0.03): #Give a small probability to mutate. \n",
        "                    child= mutate(child)\n",
        "            else:\n",
        "                child= mutate(child) #If it gets stuck in a local minima, then get it out by increasing mutation rate.\n",
        "            newPopulation.append(child)\n",
        "        newPopulation.sort(key=fitnessFunction,reverse=True)\n",
        "        population=newPopulation\n",
        "        bestIndividual=population[0]\n",
        "        #print(fitnessFunction(bestIndividual))\n",
        "\n",
        "        if(abs(fitnessFunction(bestIndividual)- bestValue)<0.01*bestValue):\n",
        "            frequency+=1\n",
        "        else:\n",
        "            bestValue=fitnessFunction(bestIndividual)\n",
        "            frequency=0\n",
        "    return bestIndividual, time.monotonic()-start_time\n",
        "\n",
        "def mutate(child):\n",
        "    bestFFindex=-1\n",
        "    bestFF=fitnessFunction(child)\n",
        "    for i in range(0, 50):\n",
        "        temp=child\n",
        "        if(child[i]==True):\n",
        "            temp[i]=False\n",
        "        else:\n",
        "            temp[i]=True\n",
        "        if(fitnessFunction(temp)>bestFF):\n",
        "            bestFFindex=i\n",
        "            bestFF=fitnessFunction(temp)\n",
        "    if(bestFFindex<0):\n",
        "        return child\n",
        "    if(child[bestFFindex]==True):\n",
        "        child[bestFFindex]=False\n",
        "    else:\n",
        "        child[bestFFindex]=True\n",
        "\n",
        "    return child     \n",
        "\n",
        "\n",
        "def reproduce(x,y):\n",
        "    maxFF=0\n",
        "    maxC=0\n",
        "    n=len(x)\n",
        "    for c in range(0,n):\n",
        "        z= x[:c] + y[c:]\n",
        "        w= y[:c] + x[c:]\n",
        "        if(maxFF<fitnessFunction(w) or maxFF<fitnessFunction(z)):\n",
        "            maxFF= max(fitnessFunction(w), fitnessFunction(z))\n",
        "            maxC=c\n",
        "    \n",
        "    z= x[:maxC] + y[maxC:]\n",
        "    w= y[:maxC] + x[maxC:]\n",
        "    if(fitnessFunction(z)>fitnessFunction(w)):\n",
        "        return z\n",
        "    return w\n",
        "\n",
        "def createPopulation(k):\n",
        "    pop=[]\n",
        "    for i in range(0,k):\n",
        "        model=[]\n",
        "        for j in range(0,50):\n",
        "            var= bool(random.getrandbits(1))\n",
        "            model.append(var)\n",
        "        pop.append(model)\n",
        "        #print(model)\n",
        "    return pop\n",
        "\n",
        "\n",
        "def fitnessFunction(model):\n",
        "    numer=0\n",
        "    denom=len(sentence)\n",
        "    for i in range(len(sentence)):\n",
        "        for j in range(0,3):\n",
        "            num=sentence[i][j]\n",
        "            if((num>0 and model[num-1]==True) or (num<0 and model[(num*(-1))-1]==False)):\n",
        "                numer+=1\n",
        "                break\n",
        "\n",
        "    \n",
        "    fitnessValue=numer/denom\n",
        "    return fitnessValue\n",
        "    \n",
        "\n",
        "\n",
        "#cnfC = CNF_Creator(n=50) # n is number of symbols in the 3-CNF sentence\n",
        "#sentence= cnfC.CreateRandomSentence(m=100) # m is number of clauses in the 3-CNF sentence  \n",
        "#sentence = cnfC.ReadCNFfromCSVfile()\n",
        "#print('Random sentence : ',sentence)\n",
        "#print('\\nSentence from CSV file : ',sentence)\n",
        "\n",
        "k=20\n",
        "\n",
        "\"\"\"\n",
        "population= createPopulation(k)\n",
        "\n",
        "optimalModel, timeTaken= GeneticAlgorithm(population)\n",
        "\n",
        "model=[]\n",
        "for i in range(len(optimalModel)):\n",
        "    if(optimalModel[i]==True):\n",
        "        model.append(i+1)\n",
        "    else:\n",
        "        model.append(-(i+1))\n",
        "\n",
        "#print(model, fitnessFunction(optimalModel)*100, time)\n",
        "\"\"\"\n",
        "\n",
        "noOfClauses=[100, 120, 140, 160, 180, 200, 220, 240, 260, 280, 300]\n",
        "avgTimeTaken=[]\n",
        "avgFFvalue=[]\n",
        "for i in range(len(noOfClauses)):\n",
        "    totalTime=0\n",
        "    totalFF=0\n",
        "    m=noOfClauses[i]\n",
        "    for j in range(0,25):\n",
        "        sentence= cnfC.CreateRandomSentence(m)\n",
        "        population= createPopulation(k)\n",
        "        itermodel, itertime= GeneticAlgorithm(population)\n",
        "        totalFF+=fitnessFunction(itermodel)\n",
        "        totalTime+=itertime\n",
        "    print(totalTime)\n",
        "    print(totalFF)\n",
        "    avgTimeTaken.append(totalTime/25)\n",
        "    avgFFvalue.append(totalFF/25)\n",
        "print(\"avgFFvalues= \", avgFFvalue)\n",
        "print(\"avgTimeTaken= \", avgTimeTaken)\n",
        "\n",
        "\n",
        "#print('\\n\\n')\n",
        "#print('Roll No : 2019A7PS1010G')\n",
        "#print('Number of clauses in CSV file : ',len(sentence))\n",
        "#print('Best model : ',model)\n",
        "#print('Fitness value of best model : ', fitnessFunction(optimalModel)*100, '%')\n",
        "#print('Time taken : ', timeTaken)\n",
        "#print('\\n\\n')   \n"
      ],
      "execution_count": 3,
      "outputs": [
        {
          "output_type": "stream",
          "name": "stdout",
          "text": [
            "184.56693423300004\n",
            "24.829999999999995\n",
            "270.7623312989999\n",
            "24.683333333333334\n",
            "417.5095562599994\n",
            "24.442857142857143\n",
            "486.2510609230005\n",
            "24.5\n",
            "552.3871956030007\n",
            "24.477777777777774\n",
            "647.351655256\n",
            "24.384999999999998\n",
            "666.4818674389999\n",
            "24.26818181818182\n",
            "757.5191255109999\n",
            "24.133333333333336\n",
            "793.350394060999\n",
            "24.057692307692303\n",
            "862.825886724002\n",
            "24.103571428571424\n",
            "925.5954757409945\n",
            "23.97333333333333\n",
            "avgFFvalues=  [0.9931999999999997, 0.9873333333333334, 0.9777142857142858, 0.98, 0.9791111111111109, 0.9753999999999999, 0.9707272727272728, 0.9653333333333335, 0.9623076923076921, 0.964142857142857, 0.9589333333333332]\n",
            "avgTimeTaken=  [7.382677369320001, 10.830493251959997, 16.700382250399976, 19.45004243692002, 22.095487824120028, 25.89406621024, 26.659274697559994, 30.300765020439993, 31.73401576243996, 34.51303546896008, 37.02381902963978]\n"
          ]
        }
      ]
    },
    {
      "cell_type": "code",
      "metadata": {
        "id": "THCAldof_R3A"
      },
      "source": [
        "import matplotlib.pyplot as plt\n"
      ],
      "execution_count": 4,
      "outputs": []
    },
    {
      "cell_type": "code",
      "metadata": {
        "colab": {
          "base_uri": "https://localhost:8080/",
          "height": 317
        },
        "id": "db6HVLqh_U_V",
        "outputId": "4f30a625-a37e-41d6-dae3-248bb9760cf1"
      },
      "source": [
        "# set up a plot with dummy data\n",
        "fig, ax = plt.subplots()\n",
        "x = [100, 120, 140, 160, 180, 200, 220, 240, 260, 280, 300]\n",
        "y = avgFFvalue\n",
        "ax.plot(x,y)\n",
        "\n",
        "# title and labels, setting initial sizes\n",
        "fig.suptitle('Average Fitness Function Value v/s No. of Clauses', fontsize=12)\n",
        "ax.set_xlabel('No. Of Clauses', fontsize=10)\n",
        "ax.set_ylabel('Average Fitness Function', fontsize='medium')   \n",
        "\n",
        "# setting label sizes after creation\n",
        "ax.xaxis.label.set_size(20)\n",
        "plt.xticks([100, 120, 140, 160, 180, 200, 220, 240, 260, 280, 300])\n",
        "plt.draw()"
      ],
      "execution_count": 7,
      "outputs": [
        {
          "output_type": "display_data",
          "data": {
            "image/png": "[encoded data removed]",
            "text/plain": [
              "<Figure size 432x288 with 1 Axes>"
            ]
          },
          "metadata": {
            "needs_background": "light"
          }
        }
      ]
    },
    {
      "cell_type": "code",
      "metadata": {
        "colab": {
          "base_uri": "https://localhost:8080/",
          "height": 317
        },
        "id": "sndtX6qo_YTR",
        "outputId": "1ead33c5-107e-4418-c6c6-c8c12e18623d"
      },
      "source": [
        "# set up a plot with dummy data\n",
        "fig, ax = plt.subplots()\n",
        "x = [100, 120, 140, 160, 180, 200, 220, 240, 260, 280, 300]\n",
        "y = avgTimeTaken\n",
        "ax.plot(x,y)\n",
        "\n",
        "# title and labels, setting initial sizes\n",
        "fig.suptitle('Average Time Taken v/s No. of Clauses', fontsize=12)\n",
        "ax.set_xlabel('No. Of Clauses', fontsize=10)\n",
        "ax.set_ylabel('Average Time Taken', fontsize='medium')   \n",
        "\n",
        "# setting label sizes after creation\n",
        "ax.xaxis.label.set_size(20)\n",
        "plt.xticks([100, 120, 140, 160, 180, 200, 220, 240, 260, 280, 300])\n",
        "plt.draw()"
      ],
      "execution_count": 8,
      "outputs": [
        {
          "output_type": "display_data",
          "data": {
            "image/png": "[encoded data removed]",
            "text/plain": [
              "<Figure size 432x288 with 1 Axes>"
            ]
          },
          "metadata": {
            "needs_background": "light"
          }
        }
      ]
    },
    {
      "cell_type": "code",
      "metadata": {
        "id": "NZLSqEVigBn7"
      },
      "source": [
        ""
      ],
      "execution_count": null,
      "outputs": []
    }
  ]
}