{
  "nbformat": 4,
  "nbformat_minor": 0,
  "metadata": {
    "colab": {
      "name": "ModifyReproduce.ipynb",
      "provenance": [],
      "include_colab_link": true
    },
    "kernelspec": {
      "name": "python3",
      "display_name": "Python 3"
    },
    "language_info": {
      "name": "python"
    }
  },
  "cells": [
    {
      "cell_type": "markdown",
      "metadata": {
        "id": "view-in-github",
        "colab_type": "text"
      },
      "source": [
        "<a href=\"https://colab.research.google.com/github/OMGarad/Artificial-Intelligence/blob/main/ModifyReproduce.ipynb\" target=\"_parent\"><img src=\"https://colab.research.google.com/assets/colab-badge.svg\" alt=\"Open In Colab\"/></a>"
      ]
    },
    {
      "cell_type": "code",
      "metadata": {
        "id": "J2By0JsC0mIG"
      },
      "source": [
        "import random\n",
        "import itertools\n",
        "import csv\n",
        "\n",
        "\n",
        "class CNF_Creator:\n",
        "    def __init__(self,n): #n is number of symbols\n",
        "        self._n = n\n",
        "        self._sentence = None\n",
        "\n",
        "    def _CreateAClause(self):\n",
        "        n = self._n\n",
        "        claus = random.sample(range(1,n+1),3)\n",
        "        for i in range(3):\n",
        "            claus[i] = -claus[i] if random.choice(range(2))==0 else claus[i]\n",
        "            #above statement randomly negates some of the literals in the clause\n",
        "        claus.sort()\n",
        "        return claus\n",
        "\n",
        "    def CreateRandomSentence(self,m): #m is number of clauses in the sentence\n",
        "        n = self._n\n",
        "        clauses = list()\n",
        "        while len(clauses)<m:\n",
        "            for mi in range(len(clauses),m):\n",
        "                claus = self._CreateAClause()\n",
        "                clauses.append(claus)\n",
        "            clauses.sort()\n",
        "#            print(clauses,len(clauses))\n",
        "            clauses = list(clause for clause,_ in itertools.groupby(clauses)) # removes duplicate clauses\n",
        "#            print(clauses,len(clauses))\n",
        "            self._sentence = clauses\n",
        "        return self._sentence\n",
        "    \n",
        "    \"\"\"\n",
        "    def ReadCNFfromCSVfile(self):\n",
        "        with open('CNF.csv') as csvfile:\n",
        "            rows = csv.reader(csvfile)\n",
        "            rows = list(rows)\n",
        "        sentence = [[int(i) for i in ro] for ro in rows]\n",
        "        #print(sentence)\n",
        "        return sentence\n",
        "    \"\"\"\n",
        "\n",
        "def main():\n",
        "    cnfC = CNF_Creator(n=50) # n is number of symbols \n",
        "    sentence = cnfC.CreateRandomSentence(m=350) # m is number of clauses in the sentence\n",
        "    print(len(sentence))\n",
        "\n",
        "    #sentence = cnfC.ReadCNFfromCSVfile()\n",
        "    print(len(sentence))\n",
        "    "
      ],
      "execution_count": 13,
      "outputs": []
    },
    {
      "cell_type": "code",
      "metadata": {
        "colab": {
          "base_uri": "https://localhost:8080/"
        },
        "id": "q1V39W-t0b_q",
        "outputId": "4fd7c674-8f68-4765-9c98-643183e8d53e"
      },
      "source": [
        "from hashlib import new\n",
        "from random import betavariate\n",
        "import time\n",
        "\n",
        "\n",
        "#Sentence is kept global to allow access to all functions\n",
        "cnfC = CNF_Creator(n=50) # n is number of symbols in the 3-CNF sentence\n",
        "sentence= cnfC.CreateRandomSentence(m=100) # m is number of clauses in the 3-CNF sentence  \n",
        "#sentence = cnfC.ReadCNFfromCSVfile()\n",
        "\n",
        "def GeneticAlgorithm(population):\n",
        "    start_time=time.monotonic()   \n",
        "    frequency=0\n",
        "    bestValue=0\n",
        "    iter=0\n",
        "\n",
        "    arr=random.choices(population,weights=[(fitnessFunction(model)*100)**4 for model in population],k=4)\n",
        "    arr.sort(key=fitnessFunction,reverse=True)\n",
        "    bestIndividual=arr[0] #Making bestIndividual the best model out of the sorted array\n",
        "    while(time.monotonic()-start_time<45 and fitnessFunction(bestIndividual)<1.0 and frequency<50):\n",
        "        if(iter==0):\n",
        "            newPopulation=arr[:2] #Initially keeping the best 2 models in the new population\n",
        "        else:\n",
        "            newPopulation=population[:2] #Keeping the best 2 models from the previous generation in the current one\n",
        "        for i in range(len(population)-2):\n",
        "            x=random.choices(population,weights=[(fitnessFunction(model)*100)**6 for model in population],k=1)[0] #Randomly choosing 2 arrays with weights of their fitness values\n",
        "            y=random.choices(population,weights=[(fitnessFunction(model)*100)**6 for model in population],k=1)[0] #*100**6 makes the high fintess function values higher and lower ones lower\n",
        "            \n",
        "            newChild, child=reproduce(x,y) #Reproducing new children using the given arrays\n",
        "            if(frequency<10):              \n",
        "                if(random.random()<0.01): #Give a small probability to mutate. \n",
        "                    child= mutate(child)\n",
        "                    newChild=mutate(newChild)\n",
        "                    #newPopulation.append(mutatedChild)\n",
        "                    #newPopulation.append(mutatedNewChild)\n",
        "            else:\n",
        "                if(random.random()<0.5): #If after 10 iterations, the best model isn't found, then we try to mutate it with a higher porbability\n",
        "                    child= mutate(child)\n",
        "                    newChild=mutate(newChild) #If it gets stuck in a local minima, then get it out by increasing mutation rate.\n",
        "                    #newPopulation.append(mutatedChild)\n",
        "                    #newPopulation.append(mutatedNewChild)\n",
        "            newPopulation.append(child)\n",
        "            newPopulation.append(newChild)\n",
        "        newPopulation.sort(key=fitnessFunction,reverse=True)\n",
        "        population=newPopulation[:len(population)] #Culling: Taking the best n models after sorting\n",
        "        bestIndividual=population[0] #bestIndividual is at the first index of population after sorting \n",
        "        iter+=1\n",
        "        #print(fitnessFunction(bestIndividual))\n",
        "        if(abs(fitnessFunction(bestIndividual)- bestValue)<0.01*bestValue): #If FF value is within 1% of bestValue, then frequency increases\n",
        "            frequency+=1\n",
        "        else:\n",
        "            bestValue=fitnessFunction(bestIndividual)\n",
        "            frequency=0\n",
        "        #print(iter)\n",
        "    return bestIndividual, time.monotonic()-start_time\n",
        "\n",
        "\n",
        "#Mutating the child by finding the best position for mutation\n",
        "def mutate(child):\n",
        "    child=child.copy()\n",
        "    bestFFindex=-1\n",
        "    #secondbestModel=child\n",
        "    #secondbestFFIndex=bestFFindex\n",
        "    bestFF=fitnessFunction(child)\n",
        "    #secondbestFF=bestFF\n",
        "    for i in range(0, 50):\n",
        "        temp=child\n",
        "        if(child[i]==True):\n",
        "            temp[i]=False\n",
        "        else:\n",
        "            temp[i]=True\n",
        "        if(fitnessFunction(temp)>bestFF):\n",
        "            #secondbestFFIndex=bestFFindex\n",
        "            #econdbestFF=bestFF\n",
        "            bestFFindex=i\n",
        "            bestFF=fitnessFunction(temp)\n",
        "    \n",
        "    #if(child[secondbestFFIndex]==True):\n",
        "    #    secondbestModel[secondbestFFIndex]=False\n",
        "    #else:\n",
        "    #    secondbestModel[secondbestFFIndex]=True\n",
        "    \n",
        "    if(bestFFindex<0):\n",
        "        return child#, secondbestModel\n",
        "    if(child[bestFFindex]==True):\n",
        "        child[bestFFindex]=False\n",
        "    else:\n",
        "        child[bestFFindex]=True\n",
        "\n",
        "    return child#, secondbestModel   \n",
        "\n",
        "    \n",
        "#Reproducing with both parents\n",
        "def reproduce(x,y):\n",
        "    x=x.copy()\n",
        "    y=y.copy()\n",
        "    secondBestpos=0\n",
        "    secondBest=x\n",
        "    maxFF=0\n",
        "    maxC=0\n",
        "    n=len(x)\n",
        "    for c in range(0,n):\n",
        "        z= x[:c] + y[c:]\n",
        "        w= y[:c] + x[c:]\n",
        "        if(maxFF<fitnessFunction(w) or maxFF<fitnessFunction(z)):\n",
        "            maxFF= max(fitnessFunction(w), fitnessFunction(z))\n",
        "            secondBestpos=maxC\n",
        "            maxC=c\n",
        "    \n",
        "    \n",
        "    if(secondBestpos==0):\n",
        "        if(fitnessFunction(y)>fitnessFunction(x)):\n",
        "            secondBest=y\n",
        "        else:\n",
        "            secondBest=x\n",
        "    \n",
        "    else:\n",
        "        p=x[:secondBestpos] + y[secondBestpos:]\n",
        "        q=y[:secondBestpos] + x[secondBestpos:]\n",
        "        if(fitnessFunction(p)>fitnessFunction(q)):\n",
        "            secondBest=p\n",
        "        else:\n",
        "            secondBest=q \n",
        "    \n",
        "    \n",
        "\n",
        "    childOne= x[:maxC] + y[maxC:]\n",
        "    childTwo= y[:maxC] + x[maxC:]\n",
        "    if(fitnessFunction(childOne)>fitnessFunction(childTwo)):\n",
        "        return childOne, secondBest\n",
        "    return childTwo, secondBest\n",
        "\n",
        "\n",
        "\n",
        "#Creating population of size k\n",
        "def createPopulation(k):\n",
        "    population=[]\n",
        "    for i in range(0,k):\n",
        "        model=[]\n",
        "        for j in range(0,50):\n",
        "            var= bool(random.getrandbits(1))\n",
        "            model.append(var)\n",
        "        population.append(model)\n",
        "    return population\n",
        "\n",
        "\n",
        "def fitnessFunction(model):\n",
        "    numer=0\n",
        "    denom=len(sentence)\n",
        "    for i in range(len(sentence)):\n",
        "        for j in range(0,3):\n",
        "            num=sentence[i][j]\n",
        "            if((num>0 and model[num-1]==True) or (num<0 and model[(num*(-1))-1]==False)):\n",
        "                numer+=1\n",
        "                break\n",
        "    \n",
        "    fitnessValue=numer/denom\n",
        "    return fitnessValue\n",
        "    \n",
        "\n",
        "\n",
        "\n",
        "#cnfC = CNF_Creator(n=50) # n is number of symbols in the 3-CNF sentence\n",
        "#sentence= cnfC.CreateRandomSentence(m=100) # m is number of clauses in the 3-CNF sentence  \n",
        "#sentence = cnfC.ReadCNFfromCSVfile()\n",
        "#print('Random sentence : ',sentence)\n",
        "#print('\\nSentence from CSV file : ',sentence)\n",
        "\n",
        "k=20\n",
        "\n",
        "\"\"\"\n",
        "population= createPopulation(k)\n",
        "\n",
        "optimalModel, timeTaken= GeneticAlgorithm(population)\n",
        "\n",
        "model=[]\n",
        "for i in range(len(optimalModel)):\n",
        "    if(optimalModel[i]==True):\n",
        "        model.append(i+1)\n",
        "    else:\n",
        "        model.append(-(i+1))\n",
        "\n",
        "#print(model, fitnessFunction(optimalModel)*100, time)\n",
        "\"\"\"\n",
        "\n",
        "noOfClauses=[100, 120, 140, 160, 180, 200, 220, 240, 260, 280, 300]\n",
        "avgTimeTaken=[]\n",
        "avgFFvalue=[]\n",
        "for i in range(len(noOfClauses)):\n",
        "    totalTime=0\n",
        "    totalFF=0\n",
        "    m=noOfClauses[i]\n",
        "    for j in range(0,25):\n",
        "        sentence= cnfC.CreateRandomSentence(m)\n",
        "        population= createPopulation(k)\n",
        "        itermodel, itertime= GeneticAlgorithm(population)\n",
        "        totalFF+=fitnessFunction(itermodel)\n",
        "        totalTime+=itertime\n",
        "    print(totalTime)\n",
        "    print(totalFF)\n",
        "    avgTimeTaken.append(totalTime/25)\n",
        "    avgFFvalue.append(totalFF/25)\n",
        "print(\"avgFFvalues= \", avgFFvalue)\n",
        "print(\"avgTimeTaken= \", avgTimeTaken)\n",
        "\n",
        "\n",
        "#print('\\n\\n')\n",
        "#print('Roll No : 2019A7PS1010G')\n",
        "#print('Number of clauses in CSV file : ',len(sentence))\n",
        "#print('Best model : ',model)\n",
        "#print('Fitness value of best model : ', fitnessFunction(optimalModel)*100, '%')\n",
        "#print('Time taken : ', timeTaken)\n",
        "#print('\\n\\n')\n",
        "\n"
      ],
      "execution_count": 14,
      "outputs": [
        {
          "output_type": "stream",
          "name": "stdout",
          "text": [
            "avgFFvalues=  [0.9907999999999997, 0.9886666666666666, 0.9805714285714285, 0.9777500000000002, 0.9746666666666666, 0.9728000000000001, 0.9678181818181818, 0.9606666666666667, 0.9599999999999995, 0.957142857142857, 0.9573333333333331]\n",
            "avgTimeTaken=  [9.553325142119947, 10.118152365159995, 16.07821140727997, 19.617710412879987, 20.937293951360008, 24.56400425463995, 26.630751447599923, 30.013485166279896, 31.749604852680022, 35.02350268367994, 36.88330208448006]\n"
          ]
        }
      ]
    },
    {
      "cell_type": "code",
      "metadata": {
        "id": "8DRV7_tf3SBv"
      },
      "source": [
        "import matplotlib.pyplot as plt\n"
      ],
      "execution_count": 15,
      "outputs": []
    },
    {
      "cell_type": "code",
      "metadata": {
        "colab": {
          "base_uri": "https://localhost:8080/",
          "height": 295
        },
        "id": "_BI4Ig6o1Jnc",
        "outputId": "3481c30f-783e-44d6-be4e-3bfe04db96c1"
      },
      "source": [
        "plt.plot(noOfClauses, avgFFvalue, color='blue')\n",
        "plt.title('Average Fitness Function Value')\n",
        "plt.xlabel('No. Of Clauses')\n",
        "plt.ylabel('Average Fitness Function')\n",
        "plt.show()"
      ],
      "execution_count": 16,
      "outputs": [
        {
          "output_type": "display_data",
          "data": {
            "image/png": "[encoded data removed]",
            "text/plain": [
              "<Figure size 432x288 with 1 Axes>"
            ]
          },
          "metadata": {
            "needs_background": "light"
          }
        }
      ]
    },
    {
      "cell_type": "code",
      "metadata": {
        "colab": {
          "base_uri": "https://localhost:8080/",
          "height": 295
        },
        "id": "4iKr-Wa36P2t",
        "outputId": "16567ea3-5505-424d-b5d8-c69ed70ac7ad"
      },
      "source": [
        "plt.plot(noOfClauses, avgTimeTaken, color='blue')\n",
        "plt.title('Average Time Taken')\n",
        "plt.xlabel('No. Of Clauses')\n",
        "plt.ylabel('Average Time Taken')\n",
        "plt.show()"
      ],
      "execution_count": 17,
      "outputs": [
        {
          "output_type": "display_data",
          "data": {
            "image/png": "[encoded data removed]",
            "text/plain": [
              "<Figure size 432x288 with 1 Axes>"
            ]
          },
          "metadata": {
            "needs_background": "light"
          }
        }
      ]
    }
  ]
}